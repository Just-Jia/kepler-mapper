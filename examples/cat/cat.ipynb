{
 "cells": [
  {
   "cell_type": "markdown",
   "metadata": {},
   "source": [
    "# Example of using plotlyviz for visualizing Kepler Mapper graphs"
   ]
  },
  {
   "cell_type": "code",
   "execution_count": 3,
   "metadata": {},
   "outputs": [
    {
     "name": "stdout",
     "output_type": "stream",
     "text": [
      "The autoreload extension is already loaded. To reload it, use:\n",
      "  %reload_ext autoreload\n"
     ]
    }
   ],
   "source": [
    "%load_ext autoreload\n",
    "%autoreload 2"
   ]
  },
  {
   "cell_type": "code",
   "execution_count": 5,
   "metadata": {},
   "outputs": [],
   "source": [
    "import numpy as np\n",
    "import sklearn\n",
    "import kmapper as km\n",
    "from kmapper.plotlyviz import plotlyviz\n",
    "\n",
    "import plotly.graph_objs as go\n",
    "import ipywidgets as ipw"
   ]
  },
  {
   "cell_type": "code",
   "execution_count": 6,
   "metadata": {},
   "outputs": [],
   "source": [
    "data = np.genfromtxt('cat-reference.csv', delimiter=',')"
   ]
  },
  {
   "cell_type": "markdown",
   "metadata": {},
   "source": [
    "Transform  data points to get a cat in normal position:"
   ]
  },
  {
   "cell_type": "code",
   "execution_count": 7,
   "metadata": {},
   "outputs": [],
   "source": [
    "x = np.copy(data[:, 0])\n",
    "y = np.copy(data[:, 1])\n",
    "z = np.copy(data[:,2])\n",
    "data[:, 0] = z\n",
    "data[:, 1] = x\n",
    "data[:, 2] = y"
   ]
  },
  {
   "cell_type": "code",
   "execution_count": 8,
   "metadata": {},
   "outputs": [
    {
     "data": {
      "application/vnd.jupyter.widget-view+json": {
       "model_id": "d34dfdf4c8804706b8d41750eb3180eb",
       "version_major": 2,
       "version_minor": 0
      },
      "text/plain": [
       "FigureWidget({\n",
       "    'data': [{'marker': {'color': 'grey', 'size': 1.5},\n",
       "              'mode': 'markers',\n",
       "      …"
      ]
     },
     "metadata": {},
     "output_type": "display_data"
    }
   ],
   "source": [
    "axis = dict(showbackground=True, \n",
    "            backgroundcolor=\"rgb(230, 230,230)\",\n",
    "            gridcolor=\"rgb(255, 255, 255)\",      \n",
    "            zerolinecolor=\"rgb(255, 255, 255)\")\n",
    "\n",
    "cat_trace = dict(type='scatter3d',\n",
    "                 x=data[:,0],\n",
    "                 y=data[:,1],\n",
    "                 z=data[:,2],\n",
    "                 mode='markers',\n",
    "                 marker=dict(color='grey', size=1.5))\n",
    "\n",
    "cat_layout=layout=dict(width=600, height=600, autosize=False,\n",
    "                       title='Cat',\n",
    "                       scene=dict(xaxis=axis,\n",
    "                                  yaxis=axis, \n",
    "                                  zaxis=axis, \n",
    "                                  \n",
    "                                  aspectratio=dict(x=1.25,\n",
    "                                                   y=0.4, \n",
    "                                                   z=0.8)),\n",
    "                       margin=dict(r=10, b=10)\n",
    "                      )\n",
    "fwcat=go.FigureWidget(data=[cat_trace], layout=cat_layout)  \n",
    "fwcat"
   ]
  },
  {
   "cell_type": "markdown",
   "metadata": {},
   "source": [
    "We can define a custom Plotly colorscale for graph node coloring, or use the default."
   ]
  },
  {
   "cell_type": "code",
   "execution_count": 9,
   "metadata": {},
   "outputs": [],
   "source": [
    "pl_matter = [[0.0, 'rgb(253, 237, 176)'], #derived from cmocean.cm.matter https://matplotlib.org/cmocean/\n",
    "             [0.1, 'rgb(250, 202, 143)'],\n",
    "             [0.2, 'rgb(245, 166, 114)'],\n",
    "             [0.3, 'rgb(238, 132, 93)'],\n",
    "             [0.4, 'rgb(226, 97, 82)'],\n",
    "             [0.5, 'rgb(206, 67, 86)'],\n",
    "             [0.6, 'rgb(179, 46, 94)'],\n",
    "             [0.7, 'rgb(147, 31, 99)'],\n",
    "             [0.8, 'rgb(114, 25, 95)'],\n",
    "             [0.9, 'rgb(79, 21, 82)'],\n",
    "             [1.0, 'rgb(47, 15, 61)']]"
   ]
  },
  {
   "cell_type": "code",
   "execution_count": 10,
   "metadata": {},
   "outputs": [],
   "source": [
    "mapper = km.KeplerMapper(verbose=0)\n",
    "lens = mapper.fit_transform(data)\n",
    "scomplex = mapper.map(lens,\n",
    "                      data,\n",
    "                      clusterer=sklearn.cluster.DBSCAN(eps=0.1, min_samples=5),\n",
    "                      coverer=km.Cover(nr_cubes=15, overlap_perc=0.2))"
   ]
  },
  {
   "cell_type": "code",
   "execution_count": 11,
   "metadata": {},
   "outputs": [
    {
     "data": {
      "application/vnd.jupyter.widget-view+json": {
       "model_id": "f33ad016e79c4f46b9b70867fd48946c",
       "version_major": 2,
       "version_minor": 0
      },
      "text/plain": [
       "FigureWidget({\n",
       "    'data': [{'hoverinfo': 'none',\n",
       "              'line': {'color': 'rgb(180,180,180)', 'width':…"
      ]
     },
     "metadata": {},
     "output_type": "display_data"
    }
   ],
   "source": [
    "title = 'Topological network associated to<br> the cat dataset'\n",
    "\n",
    "plotlyviz(scomplex, colorscale=pl_matter, title=title)"
   ]
  },
  {
   "cell_type": "markdown",
   "metadata": {},
   "source": [
    "To display the kmapper graph,  just type its figure name, `fw_graph`, in the next cell:"
   ]
  },
  {
   "cell_type": "markdown",
   "metadata": {},
   "source": [
    "To display more info on the generated kmapper-graph, define two more FigureWidget(s):  \n",
    "the global node distribution figure, and a dummy figure\n",
    "that displays info on the  algorithms involved in getting the graph from data, as well as  sklearn  class instances.\n",
    "\n",
    "A FigureWidget has event listeners for hovering, clicking or selecting. Using the first one for `fw_graph`\n",
    "we   define, via the function `hovering_widgets()`, widgets that display the node distribution, when the node is hovered over, and two textboxes for the cluster size and the member ids/labels of the hovered node members:"
   ]
  },
  {
   "cell_type": "code",
   "execution_count": null,
   "metadata": {},
   "outputs": [],
   "source": [
    "plotlyviz(scomplex, title=title, dashboard=True)"
   ]
  },
  {
   "cell_type": "markdown",
   "metadata": {},
   "source": [
    "The default widths for the  summary and histogram figures are chosen such that their sums to be at most 1000px (=600+400).\n",
    "When we call the function `summary_fig()` we have to set only its height (eventually by trial and error)."
   ]
  },
  {
   "cell_type": "code",
   "execution_count": null,
   "metadata": {},
   "outputs": [],
   "source": [
    "plotlyviz(scomplex, colorscale=pl_matter, title=title, vbox=True)"
   ]
  },
  {
   "cell_type": "markdown",
   "metadata": {},
   "source": [
    "Hover the graph nodes in the next cell to see their  distribution in the right figure. Under the graphs notice the contents of two text widgets:\n",
    "    the cluster size, repsctively the member ids or their labels."
   ]
  },
  {
   "cell_type": "code",
   "execution_count": null,
   "metadata": {},
   "outputs": [],
   "source": []
  },
  {
   "cell_type": "markdown",
   "metadata": {},
   "source": [
    "Finally, each FigureWidget can be saved as a png, pdf, svg image file, as well as eps file (the eps files cannot be\n",
    "defined/saved under the  Windows OS)."
   ]
  },
  {
   "cell_type": "code",
   "execution_count": null,
   "metadata": {},
   "outputs": [],
   "source": [
    "#import plotly.io as pio\n",
    "#pio.write_image(fw_graph, 'mapper-cat.pdf')#or 'mapper-cat.png'"
   ]
  },
  {
   "cell_type": "code",
   "execution_count": null,
   "metadata": {},
   "outputs": [],
   "source": []
  }
 ],
 "metadata": {
  "kernelspec": {
   "display_name": "Python 3",
   "language": "python",
   "name": "python3"
  },
  "language_info": {
   "codemirror_mode": {
    "name": "ipython",
    "version": 3
   },
   "file_extension": ".py",
   "mimetype": "text/x-python",
   "name": "python",
   "nbconvert_exporter": "python",
   "pygments_lexer": "ipython3",
   "version": "3.6.4"
  }
 },
 "nbformat": 4,
 "nbformat_minor": 2
}
