{
 "cells": [
  {
   "cell_type": "markdown",
   "metadata": {},
   "source": [
    "### Digits dataset"
   ]
  },
  {
   "cell_type": "code",
   "execution_count": 4,
   "metadata": {},
   "outputs": [],
   "source": [
    "import numpy as np\n",
    "import sklearn\n",
    "from sklearn import datasets\n",
    "try:\n",
    "    import umap\n",
    "except ImportError:\n",
    "    print(\"This example requires the UMAP library. You can install it with the command `!pip install umap-learn`\")\n",
    "import warnings\n",
    "warnings.filterwarnings(\"ignore\")"
   ]
  },
  {
   "cell_type": "code",
   "execution_count": 5,
   "metadata": {},
   "outputs": [],
   "source": [
    "import kmapper as km\n",
    "from kmapper.plotlyviz import *\n",
    "import plotly.graph_objs as go\n",
    "import ipywidgets as ipw"
   ]
  },
  {
   "cell_type": "code",
   "execution_count": 6,
   "metadata": {},
   "outputs": [],
   "source": [
    "data, labels = datasets.load_digits().data, datasets.load_digits().target"
   ]
  },
  {
   "cell_type": "code",
   "execution_count": 7,
   "metadata": {},
   "outputs": [],
   "source": [
    "mapper = km.KeplerMapper(verbose=0)\n",
    "\n",
    "projected_data = mapper.fit_transform(data, projection=umap.UMAP(n_neighbors=8,\n",
    "                                                                 min_dist=0.65,\n",
    "                                                                 n_components=2,\n",
    "                                                                 metric='euclidean',\n",
    "                                                                 random_state=3571))\n",
    "\n",
    "# Get the simplicial complex  \n",
    "scomplex = mapper.map(projected_data,\n",
    "                      clusterer=sklearn.cluster.DBSCAN(eps=0.3, min_samples=15),\n",
    "                      coverer=km.Cover(35, 0.9))"
   ]
  },
  {
   "cell_type": "markdown",
   "metadata": {},
   "source": [
    "The mapper graph nodes associated to this data set are colored according to the `color_function` values with Viridis colorscale,\n",
    "which is the default color scale, defined in `plotlyviz`."
   ]
  },
  {
   "cell_type": "code",
   "execution_count": null,
   "metadata": {},
   "outputs": [],
   "source": [
    "color_function = projected_data[:, 1]-projected_data[:, 1].min()\n",
    "kmgraph,  mapper_summary, colorf_distribution = get_mapper_graph(scomplex, color_function=color_function,\n",
    "                                                                 color_function_name='Distance to y-min')\n",
    "for node in kmgraph['nodes']:\n",
    "    node['custom_tooltips'] = labels[np.array(node['member_ids'])]\n",
    "graph_info = get_kmgraph_meta(mapper_summary)"
   ]
  },
  {
   "cell_type": "code",
   "execution_count": null,
   "metadata": {},
   "outputs": [],
   "source": [
    "#PLot the graph with Kamada Kawai layout\n",
    "plgraph_data = plotly_graph(kmgraph, graph_layout='fr', factor_size=3, edge_linewidth=1, \n",
    "                            node_linecolor='rgb(100,100,100)')\n",
    "layout = plot_layout(title='Mapper graph of digits dataset', width=620, height=620,\n",
    "                     annotation_text=graph_info, bgcolor='rgb(240,240,240)'  \n",
    "                      )\n",
    "\n",
    "fw_graph = go.FigureWidget(data=plgraph_data, layout=layout) # mapper graph figure"
   ]
  },
  {
   "cell_type": "markdown",
   "metadata": {},
   "source": [
    "The generated FigureWidget can be updated (by performing a restyle or relayout). For example, let us add a title \n",
    "to the colorbar (the name of the color function, if any),\n",
    "and set the title font size. To perform these updates faster, Plotly 3.+ provides a context manager that batches up all data and\n",
    "layout updates:"
   ]
  },
  {
   "cell_type": "code",
   "execution_count": null,
   "metadata": {},
   "outputs": [],
   "source": [
    "with fw_graph.batch_update():\n",
    "    fw_graph.data[1].marker.colorbar.title = 'dist to<br>y-min'\n",
    "    fw_graph.data[1].marker.colorbar.titlefont.size = 10"
   ]
  },
  {
   "cell_type": "code",
   "execution_count": null,
   "metadata": {},
   "outputs": [],
   "source": [
    "fw_hist = node_hist_fig(colorf_distribution,  left=25, right=10) # default  width=400, height=300,\n",
    "fw_summary = summary_fig(mapper_summary, width=600, height=350, left=10, right=20) #default width=600 "
   ]
  },
  {
   "cell_type": "code",
   "execution_count": null,
   "metadata": {},
   "outputs": [],
   "source": [
    "ipw.VBox([fw_graph, ipw.HBox([ fw_summary, fw_hist])])"
   ]
  },
  {
   "cell_type": "code",
   "execution_count": null,
   "metadata": {},
   "outputs": [],
   "source": [
    "dashboard = hovering_widgets(kmgraph, fw_graph, ctooltips=True, member_textbox_width=500)"
   ]
  },
  {
   "cell_type": "code",
   "execution_count": null,
   "metadata": {},
   "outputs": [],
   "source": [
    "dashboard"
   ]
  },
  {
   "cell_type": "markdown",
   "metadata": {},
   "source": [
    "To save any of the FigureWidget(s) uncomment the lines in the next cell:"
   ]
  },
  {
   "cell_type": "code",
   "execution_count": null,
   "metadata": {},
   "outputs": [],
   "source": [
    "#import plotly.io as pio\n",
    "#pio.write_image(fw_graph, 'digits.pdf')#or png, swg"
   ]
  },
  {
   "cell_type": "markdown",
   "metadata": {},
   "source": [
    "The dasboards, i.e. the boxes containing two or more FigureWidget(s) cannot be saved in a single image file. First save its\n",
    "FigureWidget(s) components, and then arrange them in the same order in a LaTeX file, for example."
   ]
  },
  {
   "cell_type": "code",
   "execution_count": null,
   "metadata": {},
   "outputs": [],
   "source": []
  }
 ],
 "metadata": {
  "kernelspec": {
   "display_name": "Python 3",
   "language": "python",
   "name": "python3"
  },
  "language_info": {
   "codemirror_mode": {
    "name": "ipython",
    "version": 3
   },
   "file_extension": ".py",
   "mimetype": "text/x-python",
   "name": "python",
   "nbconvert_exporter": "python",
   "pygments_lexer": "ipython3",
   "version": "3.6.4"
  }
 },
 "nbformat": 4,
 "nbformat_minor": 2
}
