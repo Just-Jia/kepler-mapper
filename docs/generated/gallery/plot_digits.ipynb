{
  "cells": [
    {
      "cell_type": "code",
      "execution_count": null,
      "metadata": {
        "collapsed": false
      },
      "outputs": [],
      "source": [
        "%matplotlib inline"
      ]
    },
    {
      "cell_type": "markdown",
      "metadata": {},
      "source": [
        "\nDigits Dataset\n================\n\nThis digits example shows two ways of customizing the tooltips options in the HTML visualization. It generates the visualization with tooltips set as the y-label, or number of the image. The second generated result uses the actual image in the tooltips. \n\n`Visualization with y-label tooltip <../../_static/digits_ylabel_tooltips.html>`_\n\n`Visualization with custom tooltips <../../_static/digits_custom_tooltips.html>`_\n"
      ]
    },
    {
      "cell_type": "code",
      "execution_count": null,
      "metadata": {
        "collapsed": false
      },
      "outputs": [],
      "source": [
        "import io\nimport sys\nimport base64\n\nimport matplotlib.pyplot as plt\nimport numpy as np\nimport sklearn\nfrom sklearn import datasets\nimport kmapper as km\n\ntry:\n    from scipy.misc import imsave, toimage\nexcept ImportError as e:\n    print(\"imsave requires you to install pillow. Run `pip install pillow` and then try again.\")\n    sys.exit()\n\n\n# Load digits dat\ndata, labels = datasets.load_digits().data, datasets.load_digits().target\n\n# Create images for a custom tooltip array\ntooltip_s = []\nfor image_data in data:\n    output = io.BytesIO()\n    img = toimage(image_data.reshape((8, 8)))  # Data was a flat row of 64 \"pixels\".\n    img.save(output, format=\"PNG\")\n    contents = output.getvalue()\n    img_encoded = base64.b64encode(contents)\n    img_tag = \"\"\"<img src=\"data:image/png;base64,{}\">\"\"\".format(img_encoded.decode('utf-8'))\n    tooltip_s.append(img_tag)\n    output.close()\n\ntooltip_s = np.array(tooltip_s)  # need to make sure to feed it as a NumPy array, not a list\n\n# Initialize to use t-SNE with 2 components (reduces data to 2 dimensions). Also note high overlap_percentage.\nmapper = km.KeplerMapper(verbose=2)\n\n# Fit and transform data\nprojected_data = mapper.fit_transform(data,\n                                      projection=sklearn.manifold.TSNE())\n\n# Create the graph (we cluster on the projected data and suffer projection loss)\ngraph = mapper.map(projected_data,\n                   clusterer=sklearn.cluster.DBSCAN(eps=0.3, min_samples=15),\n                   cover=km.Cover(35, 0.4))\n\n# Create the visualizations (increased the graph_gravity for a tighter graph-look.)\nprint(\"Output graph examples to html\" )\n# Tooltips with image data for every cluster member\nmapper.visualize(graph,\n                 title=\"Handwritten digits Mapper\",\n                 path_html=\"output/digits_custom_tooltips.html\",\n                 color_function=labels,\n                 custom_tooltips=tooltip_s)\n# Tooltips with the target y-labels for every cluster member\nmapper.visualize(graph,\n                 title=\"Handwritten digits Mapper\",\n                 path_html=\"output/digits_ylabel_tooltips.html\",\n                 custom_tooltips=labels)\n\n# Matplotlib examples\nkm.draw_matplotlib(graph, layout=\"spring\")\nplt.show()"
      ]
    }
  ],
  "metadata": {
    "kernelspec": {
      "display_name": "Python 3",
      "language": "python",
      "name": "python3"
    },
    "language_info": {
      "codemirror_mode": {
        "name": "ipython",
        "version": 3
      },
      "file_extension": ".py",
      "mimetype": "text/x-python",
      "name": "python",
      "nbconvert_exporter": "python",
      "pygments_lexer": "ipython3",
      "version": "3.7.1"
    }
  },
  "nbformat": 4,
  "nbformat_minor": 0
}