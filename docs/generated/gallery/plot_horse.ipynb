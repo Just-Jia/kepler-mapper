{
  "cells": [
    {
      "cell_type": "code",
      "execution_count": null,
      "metadata": {
        "collapsed": false
      },
      "outputs": [],
      "source": [
        "%matplotlib inline"
      ]
    },
    {
      "cell_type": "markdown",
      "metadata": {},
      "source": [
        "\n3D Horse Data\n================\n\n\nThis example generates a Mapper built from a point-cloud sampled from a 3D model of a horse.\n\n`Visualization of the horse data <../../_static/horse.html>`_\n"
      ]
    },
    {
      "cell_type": "code",
      "execution_count": null,
      "metadata": {
        "collapsed": false
      },
      "outputs": [],
      "source": [
        "import matplotlib.pyplot as plt\nimport numpy as np\nimport sklearn\n\nimport kmapper as km\n\ndata = np.genfromtxt('data/horse-reference.csv', delimiter=',')\n\nmapper = km.KeplerMapper(verbose=2)\n\n\nlens = mapper.fit_transform(data)\n\n\ngraph = mapper.map(lens,\n                   data,\n                   clusterer=sklearn.cluster.DBSCAN(eps=0.1, min_samples=5),\n                   cover=km.Cover(30, 0.2))\n\nmapper.visualize(graph,\n                 path_html=\"output/horse.html\",\n                 custom_tooltips=np.arange(len(lens)))\n\n\nkm.drawing.draw_matplotlib(graph)\nplt.show()"
      ]
    }
  ],
  "metadata": {
    "kernelspec": {
      "display_name": "Python 3",
      "language": "python",
      "name": "python3"
    },
    "language_info": {
      "codemirror_mode": {
        "name": "ipython",
        "version": 3
      },
      "file_extension": ".py",
      "mimetype": "text/x-python",
      "name": "python",
      "nbconvert_exporter": "python",
      "pygments_lexer": "ipython3",
      "version": "3.7.1"
    }
  },
  "nbformat": 4,
  "nbformat_minor": 0
}