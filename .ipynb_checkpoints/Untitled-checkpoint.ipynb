{
 "cells": [
  {
   "cell_type": "code",
   "execution_count": 1,
   "metadata": {},
   "outputs": [],
   "source": [
    "%load_ext autoreload\n",
    "%autoreload 2"
   ]
  },
  {
   "cell_type": "code",
   "execution_count": 3,
   "metadata": {},
   "outputs": [
    {
     "name": "stdout",
     "output_type": "stream",
     "text": [
      "Creating 3 hypercubes.\n",
      "There are 50 points in cube 0/3\n",
      "\tmembers:  [0, 1, 2, 3, 4, 5, 6, 7, 8, 9, 10, 11, 12, 13, 14, 15, 16, 17, 18, 19, 20, 21, 22, 23, 24, 25, 26, 27, 28, 29, 30, 31, 32, 33, 34, 35, 36, 37, 38, 39, 40, 41, 42, 43, 44, 45, 46, 47, 48, 49]\n",
      "There are 50 points in cube 1/3\n",
      "\tmembers:  [17, 18, 19, 20, 21, 22, 23, 24, 25, 26, 27, 28, 29, 30, 31, 32, 33, 34, 35, 36, 37, 38, 39, 40, 41, 42, 43, 44, 45, 46, 47, 48, 49, 50, 51, 52, 53, 54, 55, 56, 57, 58, 59, 60, 61, 62, 63, 64, 65, 66]\n",
      "There are 50 points in cube 2/3\n",
      "\tmembers:  [33, 34, 35, 36, 37, 38, 39, 40, 41, 42, 43, 44, 45, 46, 47, 48, 49, 50, 51, 52, 53, 54, 55, 56, 57, 58, 59, 60, 61, 62, 63, 64, 65, 66, 67, 68, 69, 70, 71, 72, 73, 74, 75, 76, 77, 78, 79, 80, 81, 82]\n"
     ]
    }
   ],
   "source": [
    "import numpy as np\n",
    "from kmapper import cover\n",
    "\n",
    "# uniform data:\n",
    "data = np.arange(0,100)\n",
    "data = data[:,np.newaxis]\n",
    "lens = data\n",
    "\n",
    "# divided into 10 bins, with perc_overlap=50%:\n",
    "cov = cover.Cover(3,0.5)\n",
    "\n",
    "## imitate usage in kmapper.py KeplerMapper.map:\n",
    "\n",
    "# Prefix'ing the data with an ID column\n",
    "ids = np.array([x for x in range(lens.shape[0])])\n",
    "lens = np.c_[ids, lens]\n",
    "\n",
    "bins = cov.define_bins(lens)\n",
    "\n",
    "bins = list(bins)  # extract list from generator\n",
    "total_bins = len(bins)\n",
    "print(\"Creating %s hypercubes.\" % total_bins)\n",
    "\n",
    "for i, cube in enumerate(bins):\n",
    "    hypercube = cov.find_entries(lens,cube)\n",
    "    print(\"There are %s points in cube %s/%s\" % (hypercube.shape[0], i, total_bins))\n",
    "    print(\"\\tmembers: \", list(hypercube[:,1]))"
   ]
  },
  {
   "cell_type": "code",
   "execution_count": 16,
   "metadata": {},
   "outputs": [
    {
     "data": {
      "text/plain": [
       "0.625"
      ]
     },
     "execution_count": 16,
     "metadata": {},
     "output_type": "execute_result"
    }
   ],
   "source": [
    "I = 1\n",
    "n = 2\n",
    "perc_overlap = 0.25\n",
    "\n",
    "# Compute the total area of all bins. \n",
    "effective_coverage = I + ((n-1)/n) * (2 * perc_overlap * I) \n",
    "bin_length = effective_coverage / n\n",
    "bin_length"
   ]
  },
  {
   "cell_type": "code",
   "execution_count": null,
   "metadata": {},
   "outputs": [],
   "source": []
  }
 ],
 "metadata": {
  "kernelspec": {
   "display_name": "Python 3",
   "language": "python",
   "name": "python3"
  },
  "language_info": {
   "codemirror_mode": {
    "name": "ipython",
    "version": 3
   },
   "file_extension": ".py",
   "mimetype": "text/x-python",
   "name": "python",
   "nbconvert_exporter": "python",
   "pygments_lexer": "ipython3",
   "version": "3.7.1"
  }
 },
 "nbformat": 4,
 "nbformat_minor": 2
}
