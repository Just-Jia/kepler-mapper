{
  "cells": [
    {
      "cell_type": "code",
      "execution_count": null,
      "metadata": {
        "collapsed": false
      },
      "outputs": [],
      "source": [
        "%matplotlib inline"
      ]
    },
    {
      "cell_type": "markdown",
      "metadata": {},
      "source": [
        "\nBreast Cancer\n================\n\n\n\nThis example generates a Mapper built from the `Wisconsin Breast Cancer Dataset <https://www.kaggle.com/uciml/breast-cancer-wisconsin-data>`_.\n\n\n![](../../../examples/images/breast-cancer.png)\n\n"
      ]
    },
    {
      "cell_type": "code",
      "execution_count": null,
      "metadata": {
        "collapsed": false
      },
      "outputs": [],
      "source": [
        "import sys\ntry:\n    import pandas as pd\nexcept ImportError as e:\n    print(\"pandas is required for this example. Please install with `pip install pandas` and then try again.\")\n    sys.exit()\n\nimport numpy as np\nimport kmapper as km\nimport sklearn\nfrom sklearn import ensemble\n\n# For data we use the Wisconsin Breast Cancer Dataset\n# Via: \ndf = pd.read_csv(\"data/breast-cancer.csv\")\nfeature_names = [c for c in df.columns if c not in [\"id\", \"diagnosis\"]]\ndf[\"diagnosis\"] = df[\"diagnosis\"].apply(lambda x: 1 if x == \"M\" else 0)\nX = np.array(df[feature_names].fillna(0))  # quick and dirty imputation\ny = np.array(df[\"diagnosis\"])\n\n# We create a custom 1-D lens with Isolation Forest\nmodel = ensemble.IsolationForest(random_state=1729)\nmodel.fit(X)\nlens1 = model.decision_function(X).reshape((X.shape[0], 1))\n\n# We create another 1-D lens with L2-norm\nmapper = km.KeplerMapper(verbose=3)\nlens2 = mapper.fit_transform(X, projection=\"l2norm\")\n\n# Combine both lenses to create a 2-D [Isolation Forest, L^2-Norm] lens\nlens = np.c_[lens1, lens2]\n\n# Create the simplicial complex\ngraph = mapper.map(lens,\n                   X,\n                   cover=km.Cover(n_cubes=15, perc_overlap=0.4),\n                   clusterer=sklearn.cluster.KMeans(n_clusters=2,\n                                                    random_state=1618033))\n\n# Visualization\nmapper.visualize(graph,\n                 path_html=\"output/breast-cancer.html\",\n                 title=\"Wisconsin Breast Cancer Dataset\",\n                 custom_tooltips=y)"
      ]
    }
  ],
  "metadata": {
    "kernelspec": {
      "display_name": "Python 3",
      "language": "python",
      "name": "python3"
    },
    "language_info": {
      "codemirror_mode": {
        "name": "ipython",
        "version": 3
      },
      "file_extension": ".py",
      "mimetype": "text/x-python",
      "name": "python",
      "nbconvert_exporter": "python",
      "pygments_lexer": "ipython3",
      "version": "3.7.1"
    }
  },
  "nbformat": 4,
  "nbformat_minor": 0
}