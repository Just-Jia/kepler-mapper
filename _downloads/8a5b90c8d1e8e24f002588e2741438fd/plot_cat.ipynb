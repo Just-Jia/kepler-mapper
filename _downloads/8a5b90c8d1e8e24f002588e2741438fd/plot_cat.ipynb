{
  "cells": [
    {
      "cell_type": "code",
      "execution_count": null,
      "metadata": {
        "collapsed": false
      },
      "outputs": [],
      "source": [
        "%matplotlib inline"
      ]
    },
    {
      "cell_type": "markdown",
      "metadata": {},
      "source": [
        "3D Cat Data\n============\n\n\nThis example generates a Mapper built from a point-cloud sampled from a 3D model of a cat.\n\n`Visualization of the cat mapper <../../_static/cat.html>`_\n"
      ]
    },
    {
      "cell_type": "code",
      "execution_count": null,
      "metadata": {
        "collapsed": false
      },
      "outputs": [],
      "source": [
        "import numpy as np\nimport sklearn\nimport kmapper as km\n\ndata = np.genfromtxt('data/cat-reference.csv', delimiter=',')\n\nmapper = km.KeplerMapper(verbose=2)\n\nlens = mapper.fit_transform(data)\n\ngraph = mapper.map(lens,\n                   data,\n                   clusterer=sklearn.cluster.DBSCAN(eps=0.1, min_samples=5),\n                   cover=km.Cover(n_cubes=15, perc_overlap=0.2))\n\nmapper.visualize(graph,\n                 path_html=\"output/cat.html\")\n\nkm.draw_matplotlib(graph)\n\nimport matplotlib.pyplot as plt\nplt.show()"
      ]
    }
  ],
  "metadata": {
    "kernelspec": {
      "display_name": "Python 3",
      "language": "python",
      "name": "python3"
    },
    "language_info": {
      "codemirror_mode": {
        "name": "ipython",
        "version": 3
      },
      "file_extension": ".py",
      "mimetype": "text/x-python",
      "name": "python",
      "nbconvert_exporter": "python",
      "pygments_lexer": "ipython3",
      "version": "3.7.1"
    }
  },
  "nbformat": 4,
  "nbformat_minor": 0
}